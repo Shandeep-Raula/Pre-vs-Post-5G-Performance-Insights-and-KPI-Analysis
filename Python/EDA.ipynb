{
 "cells": [
  {
   "cell_type": "markdown",
   "id": "944c0fac-de0f-4f95-9c72-e3762321acee",
   "metadata": {},
   "source": [
    "# Pre Vs. Post 5G Performance Insights and KPI Analysis"
   ]
  },
  {
   "cell_type": "markdown",
   "id": "1d77aa3a-20e3-476d-9211-ad128b97314a",
   "metadata": {},
   "source": [
    "- Domain: Telecom\n",
    "- Function: Executive Management"
   ]
  },
  {
   "cell_type": "markdown",
   "id": "45f4158f-1361-4f31-8eab-2a7d787b254c",
   "metadata": {},
   "source": [
    "## Understanding the Business Persona"
   ]
  },
  {
   "cell_type": "markdown",
   "id": "0694fb9f-302c-4b23-8c74-3cf4c2fa0cac",
   "metadata": {},
   "source": [
    "After launching 5G in May 2022, the company saw a drop in active users and slower revenue growth. Management wants to compare key metrics from before and after the 5G launch to understand what went wrong. They aim to find insights and improve their internet plans to bring back users and boost growth."
   ]
  },
  {
   "cell_type": "markdown",
   "id": "08a58955-b7bc-4021-997c-56ea771c9f21",
   "metadata": {},
   "source": [
    "## Project Goals"
   ]
  },
  {
   "cell_type": "markdown",
   "id": "ddee4b71-3725-4983-8bb6-07a7dbf41588",
   "metadata": {},
   "source": [
    "- Compare KPIs before and after the 5G launch to measure performance changes.\n",
    "- Identify reasons behind the drop in active users and revenue growth.\n",
    "- Uncover trends and patterns in user behavior post-5G launch.\n",
    "- Evaluate the effectiveness of current internet plans.\n",
    "- Suggest data-driven strategies to recover user engagement and improve revenue."
   ]
  },
  {
   "cell_type": "markdown",
   "id": "626a7187-0bad-4771-ac1c-8694b90d3cc8",
   "metadata": {},
   "source": [
    "### Table Schema\n",
    "![Table Schema](Data_Model.png)"
   ]
  },
  {
   "cell_type": "markdown",
   "id": "81256b48-9c22-47e7-93dd-e541ede632c7",
   "metadata": {},
   "source": [
    "### Import Libraries"
   ]
  },
  {
   "cell_type": "code",
   "execution_count": 1,
   "id": "490664b9-eb1a-4ec4-95f0-c051577d3708",
   "metadata": {},
   "outputs": [],
   "source": [
    "import pandas as pd\n",
    "import numpy as np\n",
    "import matplotlib.pyplot as plt\n",
    "import seaborn as sns\n",
    "import plotly.express as px\n",
    "import warnings \n",
    "warnings.filterwarnings('ignore')"
   ]
  },
  {
   "cell_type": "markdown",
   "id": "b043e49c-eefa-44d3-92cd-57937998aa27",
   "metadata": {},
   "source": [
    "### Load the Dataset"
   ]
  },
  {
   "cell_type": "code",
   "execution_count": 2,
   "id": "60f3b180-3c5f-4cdb-a222-a071b235b63a",
   "metadata": {},
   "outputs": [
    {
     "data": {
      "text/html": [
       "<div>\n",
       "<style scoped>\n",
       "    .dataframe tbody tr th:only-of-type {\n",
       "        vertical-align: middle;\n",
       "    }\n",
       "\n",
       "    .dataframe tbody tr th {\n",
       "        vertical-align: top;\n",
       "    }\n",
       "\n",
       "    .dataframe thead th {\n",
       "        text-align: right;\n",
       "    }\n",
       "</style>\n",
       "<table border=\"1\" class=\"dataframe\">\n",
       "  <thead>\n",
       "    <tr style=\"text-align: right;\">\n",
       "      <th></th>\n",
       "      <th>date</th>\n",
       "      <th>month_name</th>\n",
       "      <th>before/after_5g</th>\n",
       "      <th>time_period</th>\n",
       "    </tr>\n",
       "  </thead>\n",
       "  <tbody>\n",
       "    <tr>\n",
       "      <th>0</th>\n",
       "      <td>01-Jan-22</td>\n",
       "      <td>Jan</td>\n",
       "      <td>Before 5G</td>\n",
       "      <td>1</td>\n",
       "    </tr>\n",
       "    <tr>\n",
       "      <th>1</th>\n",
       "      <td>01-Feb-22</td>\n",
       "      <td>Feb</td>\n",
       "      <td>Before 5G</td>\n",
       "      <td>2</td>\n",
       "    </tr>\n",
       "    <tr>\n",
       "      <th>2</th>\n",
       "      <td>01-Mar-22</td>\n",
       "      <td>Mar</td>\n",
       "      <td>Before 5G</td>\n",
       "      <td>3</td>\n",
       "    </tr>\n",
       "  </tbody>\n",
       "</table>\n",
       "</div>"
      ],
      "text/plain": [
       "        date month_name before/after_5g  time_period\n",
       "0  01-Jan-22        Jan       Before 5G            1\n",
       "1  01-Feb-22        Feb       Before 5G            2\n",
       "2  01-Mar-22        Mar       Before 5G            3"
      ]
     },
     "execution_count": 2,
     "metadata": {},
     "output_type": "execute_result"
    }
   ],
   "source": [
    "dim_date = pd.read_csv('dim_date.csv')\n",
    "dim_date.head(3)"
   ]
  },
  {
   "cell_type": "code",
   "execution_count": 3,
   "id": "0669fdf5-b888-43d8-a5a2-ffe80b726b49",
   "metadata": {},
   "outputs": [
    {
     "data": {
      "text/html": [
       "<div>\n",
       "<style scoped>\n",
       "    .dataframe tbody tr th:only-of-type {\n",
       "        vertical-align: middle;\n",
       "    }\n",
       "\n",
       "    .dataframe tbody tr th {\n",
       "        vertical-align: top;\n",
       "    }\n",
       "\n",
       "    .dataframe thead th {\n",
       "        text-align: right;\n",
       "    }\n",
       "</style>\n",
       "<table border=\"1\" class=\"dataframe\">\n",
       "  <thead>\n",
       "    <tr style=\"text-align: right;\">\n",
       "      <th></th>\n",
       "      <th>plan</th>\n",
       "      <th>plan_description</th>\n",
       "    </tr>\n",
       "  </thead>\n",
       "  <tbody>\n",
       "    <tr>\n",
       "      <th>0</th>\n",
       "      <td>p1</td>\n",
       "      <td>Smart Recharge Pack (2 GB / Day Combo For 3 mo...</td>\n",
       "    </tr>\n",
       "    <tr>\n",
       "      <th>1</th>\n",
       "      <td>p2</td>\n",
       "      <td>Super Saviour Pack (1.5 GB / Day Combo For 56 ...</td>\n",
       "    </tr>\n",
       "    <tr>\n",
       "      <th>2</th>\n",
       "      <td>p3</td>\n",
       "      <td>Elite saver Pack (1 GB/ Day) Valid: 28 Days</td>\n",
       "    </tr>\n",
       "  </tbody>\n",
       "</table>\n",
       "</div>"
      ],
      "text/plain": [
       "  plan                                   plan_description\n",
       "0   p1  Smart Recharge Pack (2 GB / Day Combo For 3 mo...\n",
       "1   p2  Super Saviour Pack (1.5 GB / Day Combo For 56 ...\n",
       "2   p3        Elite saver Pack (1 GB/ Day) Valid: 28 Days"
      ]
     },
     "execution_count": 3,
     "metadata": {},
     "output_type": "execute_result"
    }
   ],
   "source": [
    "dim_plan = pd.read_csv('dim_plan.csv',header=1)\n",
    "dim_plan.head(3)"
   ]
  },
  {
   "cell_type": "code",
   "execution_count": 4,
   "id": "2a62f16c-031d-4421-b5a4-6800a3994ab1",
   "metadata": {},
   "outputs": [
    {
     "data": {
      "text/html": [
       "<div>\n",
       "<style scoped>\n",
       "    .dataframe tbody tr th:only-of-type {\n",
       "        vertical-align: middle;\n",
       "    }\n",
       "\n",
       "    .dataframe tbody tr th {\n",
       "        vertical-align: top;\n",
       "    }\n",
       "\n",
       "    .dataframe thead th {\n",
       "        text-align: right;\n",
       "    }\n",
       "</style>\n",
       "<table border=\"1\" class=\"dataframe\">\n",
       "  <thead>\n",
       "    <tr style=\"text-align: right;\">\n",
       "      <th></th>\n",
       "      <th>city_code</th>\n",
       "      <th>city_name</th>\n",
       "    </tr>\n",
       "  </thead>\n",
       "  <tbody>\n",
       "    <tr>\n",
       "      <th>0</th>\n",
       "      <td>400001</td>\n",
       "      <td>Mumbai</td>\n",
       "    </tr>\n",
       "    <tr>\n",
       "      <th>1</th>\n",
       "      <td>110001</td>\n",
       "      <td>Delhi</td>\n",
       "    </tr>\n",
       "    <tr>\n",
       "      <th>2</th>\n",
       "      <td>700001</td>\n",
       "      <td>Kolkata</td>\n",
       "    </tr>\n",
       "  </tbody>\n",
       "</table>\n",
       "</div>"
      ],
      "text/plain": [
       "   city_code city_name\n",
       "0     400001    Mumbai\n",
       "1     110001     Delhi\n",
       "2     700001   Kolkata"
      ]
     },
     "execution_count": 4,
     "metadata": {},
     "output_type": "execute_result"
    }
   ],
   "source": [
    "dim_cities = pd.read_csv('dim_cities.csv')\n",
    "dim_cities.head(3)"
   ]
  },
  {
   "cell_type": "code",
   "execution_count": 5,
   "id": "4be2d312-8a83-4d8c-b67d-dc5d60cb352d",
   "metadata": {},
   "outputs": [
    {
     "data": {
      "text/html": [
       "<div>\n",
       "<style scoped>\n",
       "    .dataframe tbody tr th:only-of-type {\n",
       "        vertical-align: middle;\n",
       "    }\n",
       "\n",
       "    .dataframe tbody tr th {\n",
       "        vertical-align: top;\n",
       "    }\n",
       "\n",
       "    .dataframe thead th {\n",
       "        text-align: right;\n",
       "    }\n",
       "</style>\n",
       "<table border=\"1\" class=\"dataframe\">\n",
       "  <thead>\n",
       "    <tr style=\"text-align: right;\">\n",
       "      <th></th>\n",
       "      <th>date</th>\n",
       "      <th>city_code</th>\n",
       "      <th>company</th>\n",
       "      <th>atliqo_revenue_crores</th>\n",
       "      <th>arpu</th>\n",
       "      <th>active_users_lakhs</th>\n",
       "      <th>unsubscribed_users_lakhs</th>\n",
       "    </tr>\n",
       "  </thead>\n",
       "  <tbody>\n",
       "    <tr>\n",
       "      <th>0</th>\n",
       "      <td>01-Jan-22</td>\n",
       "      <td>400001</td>\n",
       "      <td>Atliqo</td>\n",
       "      <td>60.69</td>\n",
       "      <td>192</td>\n",
       "      <td>31.61</td>\n",
       "      <td>1.90</td>\n",
       "    </tr>\n",
       "    <tr>\n",
       "      <th>1</th>\n",
       "      <td>01-Jan-22</td>\n",
       "      <td>110001</td>\n",
       "      <td>Atliqo</td>\n",
       "      <td>42.71</td>\n",
       "      <td>175</td>\n",
       "      <td>24.41</td>\n",
       "      <td>1.31</td>\n",
       "    </tr>\n",
       "    <tr>\n",
       "      <th>2</th>\n",
       "      <td>01-Jan-22</td>\n",
       "      <td>700001</td>\n",
       "      <td>Atliqo</td>\n",
       "      <td>36.91</td>\n",
       "      <td>175</td>\n",
       "      <td>21.09</td>\n",
       "      <td>1.25</td>\n",
       "    </tr>\n",
       "  </tbody>\n",
       "</table>\n",
       "</div>"
      ],
      "text/plain": [
       "        date  city_code company  atliqo_revenue_crores  arpu  \\\n",
       "0  01-Jan-22     400001  Atliqo                  60.69   192   \n",
       "1  01-Jan-22     110001  Atliqo                  42.71   175   \n",
       "2  01-Jan-22     700001  Atliqo                  36.91   175   \n",
       "\n",
       "   active_users_lakhs  unsubscribed_users_lakhs  \n",
       "0               31.61                      1.90  \n",
       "1               24.41                      1.31  \n",
       "2               21.09                      1.25  "
      ]
     },
     "execution_count": 5,
     "metadata": {},
     "output_type": "execute_result"
    }
   ],
   "source": [
    "fact_atliqo_metrics = pd.read_csv('fact_atliqo_metrics.csv')\n",
    "fact_atliqo_metrics.head(3)"
   ]
  },
  {
   "cell_type": "code",
   "execution_count": 6,
   "id": "83f120b0-183a-4098-b2fe-983dc0492695",
   "metadata": {},
   "outputs": [
    {
     "data": {
      "text/html": [
       "<div>\n",
       "<style scoped>\n",
       "    .dataframe tbody tr th:only-of-type {\n",
       "        vertical-align: middle;\n",
       "    }\n",
       "\n",
       "    .dataframe tbody tr th {\n",
       "        vertical-align: top;\n",
       "    }\n",
       "\n",
       "    .dataframe thead th {\n",
       "        text-align: right;\n",
       "    }\n",
       "</style>\n",
       "<table border=\"1\" class=\"dataframe\">\n",
       "  <thead>\n",
       "    <tr style=\"text-align: right;\">\n",
       "      <th></th>\n",
       "      <th>date</th>\n",
       "      <th>city_code</th>\n",
       "      <th>tmv_city_crores</th>\n",
       "      <th>company</th>\n",
       "      <th>ms_pct</th>\n",
       "    </tr>\n",
       "  </thead>\n",
       "  <tbody>\n",
       "    <tr>\n",
       "      <th>0</th>\n",
       "      <td>01-Jan-22</td>\n",
       "      <td>400001</td>\n",
       "      <td>286.29</td>\n",
       "      <td>Atliqo</td>\n",
       "      <td>21.20</td>\n",
       "    </tr>\n",
       "    <tr>\n",
       "      <th>1</th>\n",
       "      <td>01-Jan-22</td>\n",
       "      <td>110001</td>\n",
       "      <td>241.59</td>\n",
       "      <td>Atliqo</td>\n",
       "      <td>17.68</td>\n",
       "    </tr>\n",
       "    <tr>\n",
       "      <th>2</th>\n",
       "      <td>01-Jan-22</td>\n",
       "      <td>700001</td>\n",
       "      <td>222.19</td>\n",
       "      <td>Atliqo</td>\n",
       "      <td>16.61</td>\n",
       "    </tr>\n",
       "  </tbody>\n",
       "</table>\n",
       "</div>"
      ],
      "text/plain": [
       "        date  city_code  tmv_city_crores company  ms_pct\n",
       "0  01-Jan-22     400001           286.29  Atliqo   21.20\n",
       "1  01-Jan-22     110001           241.59  Atliqo   17.68\n",
       "2  01-Jan-22     700001           222.19  Atliqo   16.61"
      ]
     },
     "execution_count": 6,
     "metadata": {},
     "output_type": "execute_result"
    }
   ],
   "source": [
    "fact_market_share = pd.read_csv('fact_market_share.csv')\n",
    "fact_market_share.head(3)"
   ]
  },
  {
   "cell_type": "code",
   "execution_count": 7,
   "id": "86b69da7-f2b0-4285-a62e-12b7348f29d1",
   "metadata": {},
   "outputs": [
    {
     "data": {
      "text/html": [
       "<div>\n",
       "<style scoped>\n",
       "    .dataframe tbody tr th:only-of-type {\n",
       "        vertical-align: middle;\n",
       "    }\n",
       "\n",
       "    .dataframe tbody tr th {\n",
       "        vertical-align: top;\n",
       "    }\n",
       "\n",
       "    .dataframe thead th {\n",
       "        text-align: right;\n",
       "    }\n",
       "</style>\n",
       "<table border=\"1\" class=\"dataframe\">\n",
       "  <thead>\n",
       "    <tr style=\"text-align: right;\">\n",
       "      <th></th>\n",
       "      <th>date</th>\n",
       "      <th>city_code</th>\n",
       "      <th>plans</th>\n",
       "      <th>plan_revenue_crores</th>\n",
       "    </tr>\n",
       "  </thead>\n",
       "  <tbody>\n",
       "    <tr>\n",
       "      <th>0</th>\n",
       "      <td>01-Jan-22</td>\n",
       "      <td>400001</td>\n",
       "      <td>p1</td>\n",
       "      <td>6.26</td>\n",
       "    </tr>\n",
       "    <tr>\n",
       "      <th>1</th>\n",
       "      <td>01-Jan-22</td>\n",
       "      <td>110001</td>\n",
       "      <td>p1</td>\n",
       "      <td>4.58</td>\n",
       "    </tr>\n",
       "    <tr>\n",
       "      <th>2</th>\n",
       "      <td>01-Jan-22</td>\n",
       "      <td>700001</td>\n",
       "      <td>p1</td>\n",
       "      <td>4.29</td>\n",
       "    </tr>\n",
       "  </tbody>\n",
       "</table>\n",
       "</div>"
      ],
      "text/plain": [
       "        date  city_code plans  plan_revenue_crores\n",
       "0  01-Jan-22     400001    p1                 6.26\n",
       "1  01-Jan-22     110001    p1                 4.58\n",
       "2  01-Jan-22     700001    p1                 4.29"
      ]
     },
     "execution_count": 7,
     "metadata": {},
     "output_type": "execute_result"
    }
   ],
   "source": [
    "fact_plan_revenue = pd.read_csv('fact_plan_revenue.csv')\n",
    "fact_plan_revenue.head(3)"
   ]
  },
  {
   "cell_type": "markdown",
   "id": "48938c52-7b73-4794-81d4-b59a2708c999",
   "metadata": {},
   "source": [
    "### Understand the Data"
   ]
  },
  {
   "cell_type": "markdown",
   "id": "dbe20975-5b00-4e6e-810c-07a0737b606e",
   "metadata": {},
   "source": [
    "#### Shape"
   ]
  },
  {
   "cell_type": "code",
   "execution_count": 8,
   "id": "8b37b696-cb1b-463d-a53a-76019aeacbe0",
   "metadata": {},
   "outputs": [
    {
     "name": "stdout",
     "output_type": "stream",
     "text": [
      "dim_date : (8, 4)\n",
      "------------------------------\n",
      "dim_plan : (13, 2)\n",
      "------------------------------\n",
      "dim_cities : (15, 2)\n",
      "------------------------------\n",
      "fact_atliqo_metrics : (120, 7)\n",
      "------------------------------\n",
      "fact_market_share : (600, 5)\n",
      "------------------------------\n",
      "fact_plan_revenue : (1200, 4)\n",
      "------------------------------\n"
     ]
    }
   ],
   "source": [
    "dataframes = [dim_date, dim_plan, dim_cities, fact_atliqo_metrics, fact_market_share, fact_plan_revenue]\n",
    "names = ['dim_date', 'dim_plan', 'dim_cities', 'fact_atliqo_metrics', 'fact_market_share', 'fact_plan_revenue']\n",
    "\n",
    "for name, df in zip(names, dataframes):\n",
    "    print(f\"{name} : {df.shape}\")\n",
    "    print(\"-\" * 30)"
   ]
  },
  {
   "cell_type": "markdown",
   "id": "d4cab323-20c2-4b08-b3fb-ec5877d61614",
   "metadata": {},
   "source": [
    "#### Data Types"
   ]
  },
  {
   "cell_type": "code",
   "execution_count": 9,
   "id": "d55bc078-6098-4b33-b753-4fedd3a935a1",
   "metadata": {},
   "outputs": [
    {
     "name": "stdout",
     "output_type": "stream",
     "text": [
      "dim_date :\n",
      "date               object\n",
      "month_name         object\n",
      "before/after_5g    object\n",
      "time_period         int64\n",
      "dtype: object\n",
      "------------------------------\n",
      "dim_plan :\n",
      "plan                object\n",
      "plan_description    object\n",
      "dtype: object\n",
      "------------------------------\n",
      "dim_cities :\n",
      "city_code     int64\n",
      "city_name    object\n",
      "dtype: object\n",
      "------------------------------\n",
      "fact_atliqo_metrics :\n",
      "date                         object\n",
      "city_code                     int64\n",
      "company                      object\n",
      "atliqo_revenue_crores       float64\n",
      "arpu                          int64\n",
      "active_users_lakhs          float64\n",
      "unsubscribed_users_lakhs    float64\n",
      "dtype: object\n",
      "------------------------------\n",
      "fact_market_share :\n",
      "date                object\n",
      "city_code            int64\n",
      "tmv_city_crores    float64\n",
      "company             object\n",
      "ms_pct             float64\n",
      "dtype: object\n",
      "------------------------------\n",
      "fact_plan_revenue :\n",
      "date                    object\n",
      "city_code                int64\n",
      "plans                   object\n",
      "plan_revenue_crores    float64\n",
      "dtype: object\n",
      "------------------------------\n"
     ]
    }
   ],
   "source": [
    "for name, df in zip(names, dataframes):\n",
    "    print(f\"{name} :\")\n",
    "    print(df.dtypes)\n",
    "    print(\"-\" * 30)"
   ]
  },
  {
   "cell_type": "markdown",
   "id": "3bcaf301-8542-49ae-bd05-5f0eb26ffedc",
   "metadata": {},
   "source": [
    "#### Missing Values"
   ]
  },
  {
   "cell_type": "code",
   "execution_count": 10,
   "id": "59f2d3d1-6021-4bec-95d1-1b5fbcc3e331",
   "metadata": {},
   "outputs": [
    {
     "name": "stdout",
     "output_type": "stream",
     "text": [
      "dim_date :\n",
      "date               0\n",
      "month_name         0\n",
      "before/after_5g    0\n",
      "time_period        0\n",
      "dtype: int64\n",
      "------------------------------\n",
      "dim_plan :\n",
      "plan                0\n",
      "plan_description    0\n",
      "dtype: int64\n",
      "------------------------------\n",
      "dim_cities :\n",
      "city_code    0\n",
      "city_name    0\n",
      "dtype: int64\n",
      "------------------------------\n",
      "fact_atliqo_metrics :\n",
      "date                        0\n",
      "city_code                   0\n",
      "company                     0\n",
      "atliqo_revenue_crores       0\n",
      "arpu                        0\n",
      "active_users_lakhs          0\n",
      "unsubscribed_users_lakhs    0\n",
      "dtype: int64\n",
      "------------------------------\n",
      "fact_market_share :\n",
      "date               0\n",
      "city_code          0\n",
      "tmv_city_crores    0\n",
      "company            0\n",
      "ms_pct             0\n",
      "dtype: int64\n",
      "------------------------------\n",
      "fact_plan_revenue :\n",
      "date                   0\n",
      "city_code              0\n",
      "plans                  0\n",
      "plan_revenue_crores    0\n",
      "dtype: int64\n",
      "------------------------------\n"
     ]
    }
   ],
   "source": [
    "for name, df in zip(names, dataframes):\n",
    "    print(f\"{name} :\")\n",
    "    print(df.isnull().sum())\n",
    "    print(\"-\" * 30)"
   ]
  },
  {
   "cell_type": "code",
   "execution_count": 11,
   "id": "f945c7ae-0e20-4240-a66b-55758d2a48de",
   "metadata": {},
   "outputs": [
    {
     "name": "stdout",
     "output_type": "stream",
     "text": [
      "Object columns converted to Date Time ✅\n"
     ]
    }
   ],
   "source": [
    "dataframes = [dim_date, fact_atliqo_metrics, fact_market_share, fact_plan_revenue]\n",
    "names = ['dim_date', 'fact_atliqo_metrics', 'fact_market_share', 'fact_plan_revenue']\n",
    "\n",
    "for name, df in zip(names, dataframes):\n",
    "    # Convert 'date' column to datetime if it exists\n",
    "    if 'date' in df.columns:\n",
    "        df['date'] = pd.to_datetime(df['date'], errors='coerce')\n",
    "print(\"Object columns converted to Date Time ✅\")"
   ]
  },
  {
   "cell_type": "code",
   "execution_count": 12,
   "id": "7d0c0ae7-e90e-43e8-84e8-ce6a764386c7",
   "metadata": {},
   "outputs": [
    {
     "name": "stdout",
     "output_type": "stream",
     "text": [
      "Object columns converted to Category ✅\n"
     ]
    }
   ],
   "source": [
    "for name, df in zip(names, dataframes):\n",
    "    # Convert object columns to category\n",
    "    for col in df.select_dtypes(include='object').columns:\n",
    "        df[col] = df[col].astype('category')\n",
    "    \n",
    "print(\"Object columns converted to Category ✅\")"
   ]
  },
  {
   "cell_type": "code",
   "execution_count": 13,
   "id": "217b289b-89e8-4caf-8a50-08059c253a4a",
   "metadata": {},
   "outputs": [
    {
     "name": "stdout",
     "output_type": "stream",
     "text": [
      "dim_date :\n",
      "date               datetime64[ns]\n",
      "month_name               category\n",
      "before/after_5g          category\n",
      "time_period                 int64\n",
      "dtype: object\n",
      "------------------------------\n",
      "fact_atliqo_metrics :\n",
      "date                        datetime64[ns]\n",
      "city_code                            int64\n",
      "company                           category\n",
      "atliqo_revenue_crores              float64\n",
      "arpu                                 int64\n",
      "active_users_lakhs                 float64\n",
      "unsubscribed_users_lakhs           float64\n",
      "dtype: object\n",
      "------------------------------\n",
      "fact_market_share :\n",
      "date               datetime64[ns]\n",
      "city_code                   int64\n",
      "tmv_city_crores           float64\n",
      "company                  category\n",
      "ms_pct                    float64\n",
      "dtype: object\n",
      "------------------------------\n",
      "fact_plan_revenue :\n",
      "date                   datetime64[ns]\n",
      "city_code                       int64\n",
      "plans                        category\n",
      "plan_revenue_crores           float64\n",
      "dtype: object\n",
      "------------------------------\n"
     ]
    }
   ],
   "source": [
    "# cheack data type of date column\n",
    "for name, df in zip(names, dataframes):\n",
    "    print(f\"{name} :\")\n",
    "    print(df.dtypes)\n",
    "    print(\"-\" * 30)"
   ]
  },
  {
   "cell_type": "code",
   "execution_count": null,
   "id": "6519edd5-ba3e-41d9-a97d-2c64485e7bcd",
   "metadata": {},
   "outputs": [],
   "source": []
  }
 ],
 "metadata": {
  "kernelspec": {
   "display_name": "Python 3 (ipykernel)",
   "language": "python",
   "name": "python3"
  },
  "language_info": {
   "codemirror_mode": {
    "name": "ipython",
    "version": 3
   },
   "file_extension": ".py",
   "mimetype": "text/x-python",
   "name": "python",
   "nbconvert_exporter": "python",
   "pygments_lexer": "ipython3",
   "version": "3.12.4"
  }
 },
 "nbformat": 4,
 "nbformat_minor": 5
}
